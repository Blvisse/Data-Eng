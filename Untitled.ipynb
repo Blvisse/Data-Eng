{
 "cells": [
  {
   "cell_type": "code",
   "execution_count": 1,
   "id": "6f45c7a8-fb74-42de-ae56-092e766e8b22",
   "metadata": {},
   "outputs": [],
   "source": [
    "def limiter (n):\n",
    "    if(n==6):\n",
    "        return 3\n",
    "    else:\n",
    "        return 3 * limiter(n+1)\n",
    "        \n"
   ]
  },
  {
   "cell_type": "code",
   "execution_count": 3,
   "id": "b52f504e-859d-4c2c-b2a4-b85d2ad37915",
   "metadata": {},
   "outputs": [
    {
     "data": {
      "text/plain": [
       "81"
      ]
     },
     "execution_count": 3,
     "metadata": {},
     "output_type": "execute_result"
    }
   ],
   "source": [
    "limiter(3)"
   ]
  },
  {
   "cell_type": "code",
   "execution_count": null,
   "id": "58c71e9f-c31f-4e57-8286-a861e4124b77",
   "metadata": {},
   "outputs": [],
   "source": []
  }
 ],
 "metadata": {
  "kernelspec": {
   "display_name": "Python 3 (ipykernel)",
   "language": "python",
   "name": "python3"
  },
  "language_info": {
   "codemirror_mode": {
    "name": "ipython",
    "version": 3
   },
   "file_extension": ".py",
   "mimetype": "text/x-python",
   "name": "python",
   "nbconvert_exporter": "python",
   "pygments_lexer": "ipython3",
   "version": "3.7.10"
  }
 },
 "nbformat": 4,
 "nbformat_minor": 5
}
