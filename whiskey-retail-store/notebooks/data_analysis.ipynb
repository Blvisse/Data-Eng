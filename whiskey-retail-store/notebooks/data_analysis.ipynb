{
 "cells": [
  {
   "cell_type": "markdown",
   "metadata": {},
   "source": [
    "# Fetch Data"
   ]
  },
  {
   "cell_type": "markdown",
   "metadata": {},
   "source": [
    "We need to fetch the data from the warehouse we had earlier created and use it for analysis. This is usually the first step in any datascience workflow.\n",
    "\n"
   ]
  },
  {
   "cell_type": "code",
   "execution_count": 6,
   "metadata": {},
   "outputs": [
    {
     "name": "stdout",
     "output_type": "stream",
     "text": [
      "Collecting pandasql\n",
      "  Using cached pandasql-0.7.3.tar.gz (26 kB)\n",
      "Requirement already satisfied: numpy in c:\\programdata\\anaconda3\\envs\\diagnosoft\\lib\\site-packages (from pandasql) (1.19.5)\n",
      "Requirement already satisfied: pandas in c:\\programdata\\anaconda3\\envs\\diagnosoft\\lib\\site-packages (from pandasql) (1.0.5)\n",
      "Requirement already satisfied: sqlalchemy in c:\\programdata\\anaconda3\\envs\\diagnosoft\\lib\\site-packages (from pandasql) (1.3.18)\n",
      "Requirement already satisfied: python-dateutil>=2.6.1 in c:\\programdata\\anaconda3\\envs\\diagnosoft\\lib\\site-packages (from pandas->pandasql) (2.8.1)\n",
      "Requirement already satisfied: pytz>=2017.2 in c:\\programdata\\anaconda3\\envs\\diagnosoft\\lib\\site-packages (from pandas->pandasql) (2020.1)\n",
      "Requirement already satisfied: six>=1.5 in c:\\programdata\\anaconda3\\envs\\diagnosoft\\lib\\site-packages (from python-dateutil>=2.6.1->pandas->pandasql) (1.15.0)\n",
      "Building wheels for collected packages: pandasql\n",
      "  Building wheel for pandasql (setup.py): started\n",
      "  Building wheel for pandasql (setup.py): finished with status 'done'\n",
      "  Created wheel for pandasql: filename=pandasql-0.7.3-py3-none-any.whl size=26818 sha256=a15f731ba1e3ce76074e301598ed58afe06c966e740011be530b16c185d2f717\n",
      "  Stored in directory: c:\\users\\blais\\appdata\\local\\pip\\cache\\wheels\\a6\\64\\11\\62d5f7b88421a5d80068ac9937fe2915e497da3eba900c8f59\n",
      "Successfully built pandasql\n",
      "Installing collected packages: pandasql\n",
      "Successfully installed pandasql-0.7.3\n"
     ]
    }
   ],
   "source": [
    "!pip install pandasql"
   ]
  },
  {
   "cell_type": "code",
   "execution_count": 10,
   "metadata": {},
   "outputs": [
    {
     "name": "stdout",
     "output_type": "stream",
     "text": [
      "Successfully installed libraries ...\n"
     ]
    }
   ],
   "source": [
    "#import necessary libraries\n",
    "\n",
    "try:\n",
    "    import pandas as pd\n",
    "    import numpy as np\n",
    "    import matplotlib.pyplot as plt\n",
    "    import seaborn as sns\n",
    "    import pymysql\n",
    "    import pandasql as ps\n",
    "    import contextlib\n",
    "    print(\"Successfully installed libraries ...\")\n",
    "    \n",
    "except ImportError as IE:\n",
    "    print(\"Please install the missing libraries first before proceeding {}\".format(IE))\n",
    "    exit(1)"
   ]
  },
  {
   "cell_type": "code",
   "execution_count": 11,
   "metadata": {},
   "outputs": [],
   "source": [
    "#define a couple of default styles we wish to rock with\n",
    "plt.style.use('ggplot')\n",
    "sns.set_palette('Reds_r')\n",
    "sns.set_context('notebook')\n"
   ]
  },
  {
   "cell_type": "code",
   "execution_count": 14,
   "metadata": {},
   "outputs": [],
   "source": [
    "#define pymysql query for easier querying of our dataframes\n",
    "\n",
    "def mysql(query,connection: pymysql.connections.Connection):\n",
    "    return pd.read_sql_query(query,connection)\n",
    "\n",
    "def sql(query):\n",
    "    return ps.sqldf(query)"
   ]
  },
  {
   "cell_type": "markdown",
   "metadata": {},
   "source": [
    "## Database Connection"
   ]
  },
  {
   "cell_type": "code",
   "execution_count": 13,
   "metadata": {},
   "outputs": [],
   "source": [
    "#creating a connection object \n",
    "#create a context manager to handle our sql connection\n",
    "@contextlib.contextmanager\n",
    "def sql_connection():\n",
    "    '''\n",
    "    Context manager to handle sql connection\n",
    "    Args: \n",
    "        db: database name\n",
    "    Yield:\n",
    "        conn: sql connection\n",
    "    '''\n",
    "    try:\n",
    "        conn = pymysql.connect(host='localhost',\n",
    "                               user='root',\n",
    "                               password='root',\n",
    "                               port=3306,\n",
    "                               db='dwh_whiskey',\n",
    "                               \n",
    "                               charset='utf8mb4'\n",
    "                               )\n",
    "        print(\"Successfully connected to database\")\n",
    "        # cursor = conn.cursor()\n",
    "        yield conn\n",
    "    except pymysql.MySQLError as e:\n",
    "        print(\"Error connecting to database: {}\".format(e))\n",
    "        exit(1)\n",
    "    finally:\n",
    "        conn.close()\n",
    "        print(\"Connection closed\")\n",
    "        "
   ]
  },
  {
   "cell_type": "markdown",
   "metadata": {},
   "source": [
    "## Extract Data from the Database"
   ]
  },
  {
   "cell_type": "code",
   "execution_count": 15,
   "metadata": {},
   "outputs": [
    {
     "name": "stdout",
     "output_type": "stream",
     "text": [
      "Successfully connected to database\n",
      "Running query\n",
      "Connection closed\n"
     ]
    }
   ],
   "source": [
    "#we use the context manager to get the connection object\n",
    "\n",
    "with sql_connection() as conn:\n",
    "    cursor=conn.cursor()\n",
    "    \n",
    "    #we'll be using read_sql_query from python to query our dataframe\n",
    "    query= '''\n",
    "    \n",
    "    SELECT \n",
    "        f.date,\n",
    "        d.Day_name as Day,\n",
    "        d.Month_name as Month,\n",
    "        d.Year_name as Year,\n",
    "        f.Product_name as Product,\n",
    "        f.Alcohol_Price,\n",
    "        f.Alcohol_Percentage,\n",
    "        f.Alcohol_Unit,\n",
    "        c.full_name as customer_name,\n",
    "        co.country as customer_country,\n",
    "        f.credit_provider,\n",
    "        e.full_name as employee_name\n",
    "        \n",
    "    FROM dwh_fact as f\n",
    "    left join whiskey_retail_shop.customers c\n",
    "    on f.customer_id = c.customer_id\n",
    "    left join whiskey_retail_shop.countries as co\n",
    "    on co.country_id = c.country_id \n",
    "    left join dwh_employees as e\n",
    "    on e.employee_id = f.employee_id\n",
    "    left join dwh_date d\n",
    "    on d.Date_key = f.Date_key\n",
    "    order by f.date   \n",
    "    \n",
    "    '''\n",
    "    \n",
    "    # Generating a Dataframe according to the query\n",
    "    print(\"Running query\")\n",
    "    df = mysql(query,conn)"
   ]
  },
  {
   "cell_type": "code",
   "execution_count": 16,
   "metadata": {},
   "outputs": [
    {
     "data": {
      "text/html": [
       "<div>\n",
       "<style scoped>\n",
       "    .dataframe tbody tr th:only-of-type {\n",
       "        vertical-align: middle;\n",
       "    }\n",
       "\n",
       "    .dataframe tbody tr th {\n",
       "        vertical-align: top;\n",
       "    }\n",
       "\n",
       "    .dataframe thead th {\n",
       "        text-align: right;\n",
       "    }\n",
       "</style>\n",
       "<table border=\"1\" class=\"dataframe\">\n",
       "  <thead>\n",
       "    <tr style=\"text-align: right;\">\n",
       "      <th></th>\n",
       "      <th>date</th>\n",
       "      <th>Day</th>\n",
       "      <th>Month</th>\n",
       "      <th>Year</th>\n",
       "      <th>Product</th>\n",
       "      <th>Alcohol_Price</th>\n",
       "      <th>Alcohol_Percentage</th>\n",
       "      <th>Alcohol_Unit</th>\n",
       "      <th>customer_name</th>\n",
       "      <th>customer_country</th>\n",
       "      <th>credit_provider</th>\n",
       "      <th>employee_name</th>\n",
       "    </tr>\n",
       "  </thead>\n",
       "  <tbody>\n",
       "    <tr>\n",
       "      <th>0</th>\n",
       "      <td>1991-01-02</td>\n",
       "      <td>Wednesday</td>\n",
       "      <td>Jan</td>\n",
       "      <td>1991</td>\n",
       "      <td>Stauning BastardMezcal Finish</td>\n",
       "      <td>65.25</td>\n",
       "      <td>46.30</td>\n",
       "      <td>93.20</td>\n",
       "      <td>Debra Peron</td>\n",
       "      <td>Aruba</td>\n",
       "      <td>VISA 13 digit</td>\n",
       "      <td>Annie Holmes</td>\n",
       "    </tr>\n",
       "    <tr>\n",
       "      <th>1</th>\n",
       "      <td>1991-01-03</td>\n",
       "      <td>Thursday</td>\n",
       "      <td>Jan</td>\n",
       "      <td>1991</td>\n",
       "      <td>Black Gate Batch 1 3 Year OldTBWC Australian S...</td>\n",
       "      <td>99.95</td>\n",
       "      <td>46.00</td>\n",
       "      <td>199.90</td>\n",
       "      <td>George Craft</td>\n",
       "      <td>Niue</td>\n",
       "      <td>Discover</td>\n",
       "      <td>Ann Flores</td>\n",
       "    </tr>\n",
       "    <tr>\n",
       "      <th>2</th>\n",
       "      <td>1991-01-03</td>\n",
       "      <td>Thursday</td>\n",
       "      <td>Jan</td>\n",
       "      <td>1991</td>\n",
       "      <td>Cameronbridge 198437 Year Old Signatory</td>\n",
       "      <td>235.00</td>\n",
       "      <td>51.60</td>\n",
       "      <td>335.70</td>\n",
       "      <td>Richard Komorowski</td>\n",
       "      <td>Turkmenistan</td>\n",
       "      <td>VISA 16 digit</td>\n",
       "      <td>Denise Snell</td>\n",
       "    </tr>\n",
       "    <tr>\n",
       "      <th>3</th>\n",
       "      <td>1991-01-04</td>\n",
       "      <td>Friday</td>\n",
       "      <td>Jan</td>\n",
       "      <td>1991</td>\n",
       "      <td>Kavalan King Car Conductor</td>\n",
       "      <td>81.95</td>\n",
       "      <td>46.00</td>\n",
       "      <td>117.07</td>\n",
       "      <td>Jason Donohue</td>\n",
       "      <td>French Guiana</td>\n",
       "      <td>VISA 13 digit</td>\n",
       "      <td>Margaret Williams</td>\n",
       "    </tr>\n",
       "    <tr>\n",
       "      <th>4</th>\n",
       "      <td>1991-01-04</td>\n",
       "      <td>Friday</td>\n",
       "      <td>Jan</td>\n",
       "      <td>1991</td>\n",
       "      <td>North British Single Grain 201110 Year Old Wat...</td>\n",
       "      <td>44.95</td>\n",
       "      <td>57.10</td>\n",
       "      <td>64.20</td>\n",
       "      <td>Juan Irwin</td>\n",
       "      <td>Cayman Islands</td>\n",
       "      <td>VISA 16 digit</td>\n",
       "      <td>Jeffery Bonson</td>\n",
       "    </tr>\n",
       "    <tr>\n",
       "      <th>...</th>\n",
       "      <td>...</td>\n",
       "      <td>...</td>\n",
       "      <td>...</td>\n",
       "      <td>...</td>\n",
       "      <td>...</td>\n",
       "      <td>...</td>\n",
       "      <td>...</td>\n",
       "      <td>...</td>\n",
       "      <td>...</td>\n",
       "      <td>...</td>\n",
       "      <td>...</td>\n",
       "      <td>...</td>\n",
       "    </tr>\n",
       "    <tr>\n",
       "      <th>11319</th>\n",
       "      <td>2021-12-27</td>\n",
       "      <td>Monday</td>\n",
       "      <td>Dec</td>\n",
       "      <td>2021</td>\n",
       "      <td>Starward 2016 Sample4 Year Old Exclusive to Th...</td>\n",
       "      <td>7.95</td>\n",
       "      <td>57.00</td>\n",
       "      <td>26.50</td>\n",
       "      <td>Marlene Hall</td>\n",
       "      <td>Uganda</td>\n",
       "      <td>JCB 16 digit</td>\n",
       "      <td>Rose Laperle</td>\n",
       "    </tr>\n",
       "    <tr>\n",
       "      <th>11320</th>\n",
       "      <td>2021-12-28</td>\n",
       "      <td>Tuesday</td>\n",
       "      <td>Dec</td>\n",
       "      <td>2021</td>\n",
       "      <td>Hellyers Road Original 'Roaring 40s'</td>\n",
       "      <td>53.45</td>\n",
       "      <td>40.00</td>\n",
       "      <td>76.36</td>\n",
       "      <td>Tracy Macauley</td>\n",
       "      <td>Isle of Man</td>\n",
       "      <td>Diners Club / Carte Blanche</td>\n",
       "      <td>Bert Shea</td>\n",
       "    </tr>\n",
       "    <tr>\n",
       "      <th>11321</th>\n",
       "      <td>2021-12-29</td>\n",
       "      <td>Wednesday</td>\n",
       "      <td>Dec</td>\n",
       "      <td>2021</td>\n",
       "      <td>Orbital 8 Year OldWorld Blend Sherry Cask Whis...</td>\n",
       "      <td>39.95</td>\n",
       "      <td>46.00</td>\n",
       "      <td>57.07</td>\n",
       "      <td>Amanda Jones</td>\n",
       "      <td>Italy</td>\n",
       "      <td>Mastercard</td>\n",
       "      <td>Grace Ponce</td>\n",
       "    </tr>\n",
       "    <tr>\n",
       "      <th>11322</th>\n",
       "      <td>2021-12-31</td>\n",
       "      <td>Friday</td>\n",
       "      <td>Dec</td>\n",
       "      <td>2021</td>\n",
       "      <td>Springbank 1966West Highland Malt Cask #442</td>\n",
       "      <td>15000.00</td>\n",
       "      <td>61.20</td>\n",
       "      <td>20.00</td>\n",
       "      <td>Herman Butler</td>\n",
       "      <td>Antigua and Barbuda</td>\n",
       "      <td>VISA 16 digit</td>\n",
       "      <td>Nedra Beitel</td>\n",
       "    </tr>\n",
       "    <tr>\n",
       "      <th>11323</th>\n",
       "      <td>2022-07-28</td>\n",
       "      <td>Thursday</td>\n",
       "      <td>Jul</td>\n",
       "      <td>2022</td>\n",
       "      <td>BalvenieDoublewood 12 &amp; 17 Year Old, Caribbean...</td>\n",
       "      <td>23.95</td>\n",
       "      <td>15.97</td>\n",
       "      <td>43.00</td>\n",
       "      <td>Debra Ingram</td>\n",
       "      <td>American Samoa</td>\n",
       "      <td>Diners Club / Carte Blanche</td>\n",
       "      <td>Jerry Able</td>\n",
       "    </tr>\n",
       "  </tbody>\n",
       "</table>\n",
       "<p>11324 rows × 12 columns</p>\n",
       "</div>"
      ],
      "text/plain": [
       "             date        Day Month  Year  \\\n",
       "0      1991-01-02  Wednesday   Jan  1991   \n",
       "1      1991-01-03   Thursday   Jan  1991   \n",
       "2      1991-01-03   Thursday   Jan  1991   \n",
       "3      1991-01-04     Friday   Jan  1991   \n",
       "4      1991-01-04     Friday   Jan  1991   \n",
       "...           ...        ...   ...   ...   \n",
       "11319  2021-12-27     Monday   Dec  2021   \n",
       "11320  2021-12-28    Tuesday   Dec  2021   \n",
       "11321  2021-12-29  Wednesday   Dec  2021   \n",
       "11322  2021-12-31     Friday   Dec  2021   \n",
       "11323  2022-07-28   Thursday   Jul  2022   \n",
       "\n",
       "                                                 Product  Alcohol_Price  \\\n",
       "0                          Stauning BastardMezcal Finish          65.25   \n",
       "1      Black Gate Batch 1 3 Year OldTBWC Australian S...          99.95   \n",
       "2                Cameronbridge 198437 Year Old Signatory         235.00   \n",
       "3                             Kavalan King Car Conductor          81.95   \n",
       "4      North British Single Grain 201110 Year Old Wat...          44.95   \n",
       "...                                                  ...            ...   \n",
       "11319  Starward 2016 Sample4 Year Old Exclusive to Th...           7.95   \n",
       "11320               Hellyers Road Original 'Roaring 40s'          53.45   \n",
       "11321  Orbital 8 Year OldWorld Blend Sherry Cask Whis...          39.95   \n",
       "11322        Springbank 1966West Highland Malt Cask #442       15000.00   \n",
       "11323  BalvenieDoublewood 12 & 17 Year Old, Caribbean...          23.95   \n",
       "\n",
       "       Alcohol_Percentage  Alcohol_Unit       customer_name  \\\n",
       "0                   46.30         93.20         Debra Peron   \n",
       "1                   46.00        199.90        George Craft   \n",
       "2                   51.60        335.70  Richard Komorowski   \n",
       "3                   46.00        117.07       Jason Donohue   \n",
       "4                   57.10         64.20          Juan Irwin   \n",
       "...                   ...           ...                 ...   \n",
       "11319               57.00         26.50        Marlene Hall   \n",
       "11320               40.00         76.36      Tracy Macauley   \n",
       "11321               46.00         57.07        Amanda Jones   \n",
       "11322               61.20         20.00       Herman Butler   \n",
       "11323               15.97         43.00        Debra Ingram   \n",
       "\n",
       "          customer_country              credit_provider      employee_name  \n",
       "0                    Aruba                VISA 13 digit       Annie Holmes  \n",
       "1                     Niue                     Discover         Ann Flores  \n",
       "2             Turkmenistan                VISA 16 digit       Denise Snell  \n",
       "3            French Guiana                VISA 13 digit  Margaret Williams  \n",
       "4           Cayman Islands                VISA 16 digit     Jeffery Bonson  \n",
       "...                    ...                          ...                ...  \n",
       "11319               Uganda                 JCB 16 digit       Rose Laperle  \n",
       "11320          Isle of Man  Diners Club / Carte Blanche          Bert Shea  \n",
       "11321                Italy                   Mastercard        Grace Ponce  \n",
       "11322  Antigua and Barbuda                VISA 16 digit       Nedra Beitel  \n",
       "11323       American Samoa  Diners Club / Carte Blanche         Jerry Able  \n",
       "\n",
       "[11324 rows x 12 columns]"
      ]
     },
     "execution_count": 16,
     "metadata": {},
     "output_type": "execute_result"
    }
   ],
   "source": [
    "df"
   ]
  },
  {
   "cell_type": "code",
   "execution_count": 26,
   "metadata": {},
   "outputs": [],
   "source": [
    "df.to_csv(\"../data/dwh_fact.csv\",index=False)"
   ]
  },
  {
   "cell_type": "markdown",
   "metadata": {},
   "source": [
    "# Data Analysis"
   ]
  },
  {
   "cell_type": "code",
   "execution_count": 17,
   "metadata": {},
   "outputs": [
    {
     "data": {
      "text/plain": [
       "date                   object\n",
       "Day                    object\n",
       "Month                  object\n",
       "Year                   object\n",
       "Product                object\n",
       "Alcohol_Price         float64\n",
       "Alcohol_Percentage    float64\n",
       "Alcohol_Unit          float64\n",
       "customer_name          object\n",
       "customer_country       object\n",
       "credit_provider        object\n",
       "employee_name          object\n",
       "dtype: object"
      ]
     },
     "execution_count": 17,
     "metadata": {},
     "output_type": "execute_result"
    }
   ],
   "source": [
    "#check and assert datatypes\n",
    "df.dtypes"
   ]
  },
  {
   "cell_type": "code",
   "execution_count": 25,
   "metadata": {},
   "outputs": [
    {
     "data": {
      "text/plain": [
       "dtype('float64')"
      ]
     },
     "execution_count": 25,
     "metadata": {},
     "output_type": "execute_result"
    }
   ],
   "source": [
    "df.Alcohol_Price.dtype"
   ]
  },
  {
   "cell_type": "code",
   "execution_count": 19,
   "metadata": {},
   "outputs": [],
   "source": [
    "def test_dates(data: pd.DataFrame,datecols: list):\n",
    "    '''\n",
    "    This function tests the dates in the data warehouse.\n",
    "    '''\n",
    "    for col in datecols:\n",
    "        assert data[col].dtype == 'datetime64[ns]', \"Failed date test for column: {}\".format(col)"
   ]
  },
  {
   "cell_type": "code",
   "execution_count": 20,
   "metadata": {},
   "outputs": [
    {
     "ename": "AssertionError",
     "evalue": "Failed date test for column: date",
     "output_type": "error",
     "traceback": [
      "\u001b[1;31m---------------------------------------------------------------------------\u001b[0m",
      "\u001b[1;31mAssertionError\u001b[0m                            Traceback (most recent call last)",
      "\u001b[1;32m<ipython-input-20-92520761c419>\u001b[0m in \u001b[0;36m<module>\u001b[1;34m\u001b[0m\n\u001b[1;32m----> 1\u001b[1;33m \u001b[0mtest_dates\u001b[0m\u001b[1;33m(\u001b[0m\u001b[0mdf\u001b[0m\u001b[1;33m,\u001b[0m\u001b[1;33m[\u001b[0m\u001b[1;34m'date'\u001b[0m\u001b[1;33m]\u001b[0m\u001b[1;33m)\u001b[0m\u001b[1;33m\u001b[0m\u001b[1;33m\u001b[0m\u001b[0m\n\u001b[0m",
      "\u001b[1;32m<ipython-input-19-4ed4d0079578>\u001b[0m in \u001b[0;36mtest_dates\u001b[1;34m(data, datecols)\u001b[0m\n\u001b[0;32m      4\u001b[0m     '''\n\u001b[0;32m      5\u001b[0m     \u001b[1;32mfor\u001b[0m \u001b[0mcol\u001b[0m \u001b[1;32min\u001b[0m \u001b[0mdatecols\u001b[0m\u001b[1;33m:\u001b[0m\u001b[1;33m\u001b[0m\u001b[1;33m\u001b[0m\u001b[0m\n\u001b[1;32m----> 6\u001b[1;33m         \u001b[1;32massert\u001b[0m \u001b[0mdata\u001b[0m\u001b[1;33m[\u001b[0m\u001b[0mcol\u001b[0m\u001b[1;33m]\u001b[0m\u001b[1;33m.\u001b[0m\u001b[0mdtype\u001b[0m \u001b[1;33m==\u001b[0m \u001b[1;34m'datetime64[ns]'\u001b[0m\u001b[1;33m,\u001b[0m \u001b[1;34m\"Failed date test for column: {}\"\u001b[0m\u001b[1;33m.\u001b[0m\u001b[0mformat\u001b[0m\u001b[1;33m(\u001b[0m\u001b[0mcol\u001b[0m\u001b[1;33m)\u001b[0m\u001b[1;33m\u001b[0m\u001b[1;33m\u001b[0m\u001b[0m\n\u001b[0m",
      "\u001b[1;31mAssertionError\u001b[0m: Failed date test for column: date"
     ]
    }
   ],
   "source": [
    "test_dates(df,['date'])"
   ]
  },
  {
   "cell_type": "code",
   "execution_count": null,
   "metadata": {},
   "outputs": [],
   "source": []
  }
 ],
 "metadata": {
  "kernelspec": {
   "display_name": "Python 3.6.13 ('diagnosoft')",
   "language": "python",
   "name": "python3"
  },
  "language_info": {
   "codemirror_mode": {
    "name": "ipython",
    "version": 3
   },
   "file_extension": ".py",
   "mimetype": "text/x-python",
   "name": "python",
   "nbconvert_exporter": "python",
   "pygments_lexer": "ipython3",
   "version": "3.6.13"
  },
  "orig_nbformat": 4,
  "vscode": {
   "interpreter": {
    "hash": "fb37134b1bab3f57fc1f36e875566f1c66c3d2922882f06c6df5d5d3773b2b4d"
   }
  }
 },
 "nbformat": 4,
 "nbformat_minor": 2
}
